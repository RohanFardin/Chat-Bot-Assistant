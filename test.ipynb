{
 "cells": [
  {
   "cell_type": "code",
   "execution_count": 46,
   "id": "ab7556a3",
   "metadata": {},
   "outputs": [],
   "source": [
    "import os\n",
    "from dotenv import load_dotenv\n",
    "import PyPDF2\n",
    "from langchain_google_genai import ChatGoogleGenerativeAI\n",
    "from langchain_core.output_parsers import StrOutputParser\n",
    "from langchain.schema import HumanMessage, AIMessage\n",
    "from langchain_core.messages import SystemMessage\n",
    "from langchain.utilities import SerpAPIWrapper\n",
    "from langchain.agents import load_tools, initialize_agent, AgentType"
   ]
  },
  {
   "cell_type": "code",
   "execution_count": 47,
   "id": "9d4fef1f",
   "metadata": {},
   "outputs": [],
   "source": [
    "load_dotenv()\n",
    "API_KEY = os.getenv(\"API_KEY\")\n",
    "SER_API_KEY = os.getenv(\"SER_API_KEY\")"
   ]
  },
  {
   "cell_type": "code",
   "execution_count": 48,
   "id": "d21d2586",
   "metadata": {},
   "outputs": [],
   "source": [
    "class ChatBot:\n",
    "    def __init__(self, api_key=API_KEY, serp_api_key=SER_API_KEY):\n",
    "        self.api_key = api_key\n",
    "        self.serp_api_key = serp_api_key\n",
    "        self.llm = ChatGoogleGenerativeAI(model=\"gemini-2.0-flash-001\", google_api_key=self.api_key)\n",
    "        self.tools = load_tools([\"serpapi\"], serpapi_api_key=self.serp_api_key)\n",
    "        self.agent = initialize_agent(self.tools, self.llm, agent_type=AgentType.ZERO_SHOT_REACT_DESCRIPTION, verbose=True)\n",
    "        self.chat_history = [\n",
    "            SystemMessage(content=\"You are a helpful assistant.\")\n",
    "        ]\n",
    "        self.pdf_text = \"\"\n",
    "\n",
    "    def normal_chat(self, user_input):\n",
    "        self.chat_history.append(HumanMessage(content=user_input))\n",
    "        response = self.llm.invoke(self.chat_history) \n",
    "        self.chat_history.append(AIMessage(content=response.content))\n",
    "        return response.content\n",
    "     \n",
    "    def extract_text_from_pdf(self, pdf_path):\n",
    "        text = \"\"\n",
    "        with open(pdf_path, \"rb\") as file:\n",
    "            reader = PyPDF2.PdfReader(file)\n",
    "            for page in reader.pages:\n",
    "                text += page.extract_text()\n",
    "        self.pdf_text = text  \n",
    "        return \"PDF text extracted successfully! You can now ask questions based on this PDF.\"\n",
    "\n",
    "    \n",
    "    def upload_pdf(self, pdf_path):\n",
    "        if os.path.exists(pdf_path):\n",
    "            return self.extract_text_from_pdf(pdf_path)\n",
    "        else:\n",
    "            return \"PDF file not found. Please check the file path and try again.\"\n",
    "\n",
    "    def answer_from_pdf(self, user_input):\n",
    "        self.chat_history.append(HumanMessage(content=f\"Answer based on the PDF: {self.pdf_text}\"))\n",
    "        self.chat_history.append(HumanMessage(content=user_input))\n",
    "        response = self.llm.invoke(self.chat_history)\n",
    "        self.chat_history.append(AIMessage(content=response.content))\n",
    "        return response.content\n",
    "\n",
    "    def web_search(self, user_input):\n",
    "        self.chat_history.append(HumanMessage(content=user_input))\n",
    "        return self.agent.run(user_input)\n",
    "    \n",
    "    def chat(self, user_input):\n",
    "        if \"websearch\" in user_input.lower():\n",
    "            return self.web_search(user_input)\n",
    "        elif self.pdf_text:\n",
    "            return self.answer_from_pdf(user_input)\n",
    "        else:\n",
    "            return self.normal_chat(user_input)\n",
    "   "
   ]
  },
  {
   "cell_type": "code",
   "execution_count": 49,
   "id": "7c898b0a",
   "metadata": {},
   "outputs": [],
   "source": [
    "chatbot = ChatBot()"
   ]
  },
  {
   "cell_type": "code",
   "execution_count": 53,
   "id": "a8cdb426",
   "metadata": {},
   "outputs": [
    {
     "name": "stdout",
     "output_type": "stream",
     "text": [
      "\n",
      "\n",
      "\u001b[1m> Entering new AgentExecutor chain...\u001b[0m\n",
      "\u001b[32;1m\u001b[1;3mI need to find out the current date.\n",
      "\n",
      "Action: Search\n",
      "Action Input: \"current date\"\u001b[0m\n",
      "Observation: \u001b[36;1m\u001b[1;3mThursday, April 10, 2025\u001b[0m\n",
      "Thought:\u001b[32;1m\u001b[1;3mI now know the final answer\n",
      "Final Answer: Today is Thursday, April 10, 2025.\u001b[0m\n",
      "\n",
      "\u001b[1m> Finished chain.\u001b[0m\n",
      "Today is Thursday, April 10, 2025.\n"
     ]
    }
   ],
   "source": [
    "response = chatbot.web_search(\"websearch can you tell me what is today's date?\")\n",
    "print(response)"
   ]
  },
  {
   "cell_type": "code",
   "execution_count": 50,
   "id": "21e72f7e",
   "metadata": {},
   "outputs": [
    {
     "name": "stdout",
     "output_type": "stream",
     "text": [
      "The Burj Khalifa is 828 meters (2,717 feet) tall.\n"
     ]
    }
   ],
   "source": [
    "response = chatbot.chat(\"what is the height of burj khalifa\")\n",
    "print(response)"
   ]
  },
  {
   "cell_type": "code",
   "execution_count": 51,
   "id": "1c2b9bb0",
   "metadata": {},
   "outputs": [
    {
     "data": {
      "text/plain": [
       "'PDF text extracted successfully! You can now ask questions based on this PDF.'"
      ]
     },
     "execution_count": 51,
     "metadata": {},
     "output_type": "execute_result"
    }
   ],
   "source": [
    "chatbot.upload_pdf('The Great Gatsby.pdf')"
   ]
  },
  {
   "cell_type": "code",
   "execution_count": 52,
   "id": "3e9dce0c",
   "metadata": {},
   "outputs": [
    {
     "name": "stdout",
     "output_type": "stream",
     "text": [
      "F. Scott Fitzgerald is the writer of the novel.\n"
     ]
    }
   ],
   "source": [
    "res = chatbot.chat(\"What is writer of this novelt?\")\n",
    "print(res)"
   ]
  },
  {
   "cell_type": "code",
   "execution_count": 45,
   "id": "4f23583c",
   "metadata": {},
   "outputs": [
    {
     "name": "stdout",
     "output_type": "stream",
     "text": [
      "The Burj Khalifa is 828 meters (2,717 feet) tall.\n"
     ]
    }
   ],
   "source": [
    "response = chatbot.normal_chat(\"what is the height of burj khalifa\")\n",
    "print(response)"
   ]
  },
  {
   "cell_type": "code",
   "execution_count": null,
   "id": "1f94887e",
   "metadata": {},
   "outputs": [],
   "source": []
  }
 ],
 "metadata": {
  "kernelspec": {
   "display_name": ".venv",
   "language": "python",
   "name": "python3"
  },
  "language_info": {
   "codemirror_mode": {
    "name": "ipython",
    "version": 3
   },
   "file_extension": ".py",
   "mimetype": "text/x-python",
   "name": "python",
   "nbconvert_exporter": "python",
   "pygments_lexer": "ipython3",
   "version": "3.9.1rc1"
  }
 },
 "nbformat": 4,
 "nbformat_minor": 5
}
